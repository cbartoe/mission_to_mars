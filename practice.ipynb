{
 "metadata": {
  "language_info": {
   "codemirror_mode": {
    "name": "ipython",
    "version": 3
   },
   "file_extension": ".py",
   "mimetype": "text/x-python",
   "name": "python",
   "nbconvert_exporter": "python",
   "pygments_lexer": "ipython3",
   "version": "3.7.9"
  },
  "orig_nbformat": 2,
  "kernelspec": {
   "name": "python379jvsc74a57bd04c937020ede235a2d4c8498f74e8e0815f361a09d40bc11f5adda0cea3be287e",
   "display_name": "Python 3.7.9 64-bit ('PythonData': conda)"
  },
  "metadata": {
   "interpreter": {
    "hash": "aee8b7b246df8f9039afb4144a1f6fd8d2ca17a180786b69acc140d282b71a49"
   }
  }
 },
 "nbformat": 4,
 "nbformat_minor": 2,
 "cells": [
  {
   "cell_type": "code",
   "execution_count": 1,
   "metadata": {},
   "outputs": [],
   "source": [
    "from splinter import Browser\n",
    "from bs4 import BeautifulSoup as soup\n",
    "from webdriver_manager.chrome import ChromeDriverManager"
   ]
  },
  {
   "cell_type": "code",
   "execution_count": 2,
   "metadata": {},
   "outputs": [
    {
     "output_type": "stream",
     "name": "stderr",
     "text": [
      "\n",
      "\n",
      "====== WebDriver manager ======\n",
      "Current google-chrome version is 90.0.4430\n",
      "Get LATEST driver version for 90.0.4430\n",
      "Get LATEST driver version for 90.0.4430\n",
      "Trying to download new driver from https://chromedriver.storage.googleapis.com/90.0.4430.24/chromedriver_mac64.zip\n",
      "Driver has been saved in cache [/Users/colinbartoe/.wdm/drivers/chromedriver/mac64/90.0.4430.24]\n"
     ]
    }
   ],
   "source": [
    "# Set up Splinter\n",
    "executable_path = {'executable_path': ChromeDriverManager().install()}\n",
    "browser = Browser('chrome', **executable_path, headless=False)\n"
   ]
  },
  {
   "cell_type": "code",
   "execution_count": 3,
   "metadata": {},
   "outputs": [],
   "source": [
    "#visit the quotes to scrape site\n",
    "url = 'http://quotes.toscrape.com/'\n",
    "browser.visit(url)"
   ]
  },
  {
   "cell_type": "code",
   "execution_count": 4,
   "metadata": {},
   "outputs": [],
   "source": [
    "#parse the HTML\n",
    "html = browser.html\n",
    "html_soup = soup(html, 'html.parser')"
   ]
  },
  {
   "cell_type": "code",
   "execution_count": 5,
   "metadata": {},
   "outputs": [
    {
     "output_type": "execute_result",
     "data": {
      "text/plain": [
       "'Top Ten tags'"
      ]
     },
     "metadata": {},
     "execution_count": 5
    }
   ],
   "source": [
    "title = html_soup.find('h2').text\n",
    "title"
   ]
  },
  {
   "cell_type": "code",
   "execution_count": 6,
   "metadata": {},
   "outputs": [
    {
     "output_type": "stream",
     "name": "stdout",
     "text": [
      "love\ninspirational\nlife\nhumor\nbooks\nreading\nfriendship\nfriends\ntruth\nsimile\n"
     ]
    }
   ],
   "source": [
    "#scrape the top ten tags\n",
    "tag_box = html_soup.find('div', class_='tags-box')\n",
    "#tag_box\n",
    "tags = tag_box.find_all('a', class_='tag')\n",
    "\n",
    "for tag in tags:\n",
    "    word = tag.text\n",
    "    print(word)"
   ]
  },
  {
   "cell_type": "code",
   "execution_count": 7,
   "metadata": {},
   "outputs": [],
   "source": [
    "url = 'http://quotes.toscrape.com/'\n",
    "browser.visit(url)"
   ]
  },
  {
   "cell_type": "code",
   "execution_count": 8,
   "metadata": {},
   "outputs": [
    {
     "output_type": "stream",
     "name": "stdout",
     "text": [
      "page: 1 ---------------\n“The world as we have created it is a process of our thinking. It cannot be changed without changing our thinking.”\npage: 1 ---------------\n“It is our choices, Harry, that show what we truly are, far more than our abilities.”\npage: 1 ---------------\n“There are only two ways to live your life. One is as though nothing is a miracle. The other is as though everything is a miracle.”\npage: 1 ---------------\n“The person, be it gentleman or lady, who has not pleasure in a good novel, must be intolerably stupid.”\npage: 1 ---------------\n“Imperfection is beauty, madness is genius and it's better to be absolutely ridiculous than absolutely boring.”\npage: 1 ---------------\n“Try not to become a man of success. Rather become a man of value.”\npage: 1 ---------------\n“It is better to be hated for what you are than to be loved for what you are not.”\npage: 1 ---------------\n“I have not failed. I've just found 10,000 ways that won't work.”\npage: 1 ---------------\n“A woman is like a tea bag; you never know how strong it is until it's in hot water.”\npage: 1 ---------------\n“A day without sunshine is like, you know, night.”\npage: 2 ---------------\n“The world as we have created it is a process of our thinking. It cannot be changed without changing our thinking.”\npage: 2 ---------------\n“It is our choices, Harry, that show what we truly are, far more than our abilities.”\npage: 2 ---------------\n“There are only two ways to live your life. One is as though nothing is a miracle. The other is as though everything is a miracle.”\npage: 2 ---------------\n“The person, be it gentleman or lady, who has not pleasure in a good novel, must be intolerably stupid.”\npage: 2 ---------------\n“Imperfection is beauty, madness is genius and it's better to be absolutely ridiculous than absolutely boring.”\npage: 2 ---------------\n“Try not to become a man of success. Rather become a man of value.”\npage: 2 ---------------\n“It is better to be hated for what you are than to be loved for what you are not.”\npage: 2 ---------------\n“I have not failed. I've just found 10,000 ways that won't work.”\npage: 2 ---------------\n“A woman is like a tea bag; you never know how strong it is until it's in hot water.”\npage: 2 ---------------\n“A day without sunshine is like, you know, night.”\npage: 3 ---------------\n“The world as we have created it is a process of our thinking. It cannot be changed without changing our thinking.”\npage: 3 ---------------\n“It is our choices, Harry, that show what we truly are, far more than our abilities.”\npage: 3 ---------------\n“There are only two ways to live your life. One is as though nothing is a miracle. The other is as though everything is a miracle.”\npage: 3 ---------------\n“The person, be it gentleman or lady, who has not pleasure in a good novel, must be intolerably stupid.”\npage: 3 ---------------\n“Imperfection is beauty, madness is genius and it's better to be absolutely ridiculous than absolutely boring.”\npage: 3 ---------------\n“Try not to become a man of success. Rather become a man of value.”\npage: 3 ---------------\n“It is better to be hated for what you are than to be loved for what you are not.”\npage: 3 ---------------\n“I have not failed. I've just found 10,000 ways that won't work.”\npage: 3 ---------------\n“A woman is like a tea bag; you never know how strong it is until it's in hot water.”\npage: 3 ---------------\n“A day without sunshine is like, you know, night.”\npage: 4 ---------------\n“The world as we have created it is a process of our thinking. It cannot be changed without changing our thinking.”\npage: 4 ---------------\n“It is our choices, Harry, that show what we truly are, far more than our abilities.”\npage: 4 ---------------\n“There are only two ways to live your life. One is as though nothing is a miracle. The other is as though everything is a miracle.”\npage: 4 ---------------\n“The person, be it gentleman or lady, who has not pleasure in a good novel, must be intolerably stupid.”\npage: 4 ---------------\n“Imperfection is beauty, madness is genius and it's better to be absolutely ridiculous than absolutely boring.”\npage: 4 ---------------\n“Try not to become a man of success. Rather become a man of value.”\npage: 4 ---------------\n“It is better to be hated for what you are than to be loved for what you are not.”\npage: 4 ---------------\n“I have not failed. I've just found 10,000 ways that won't work.”\npage: 4 ---------------\n“A woman is like a tea bag; you never know how strong it is until it's in hot water.”\npage: 4 ---------------\n“A day without sunshine is like, you know, night.”\npage: 5 ---------------\n“The world as we have created it is a process of our thinking. It cannot be changed without changing our thinking.”\npage: 5 ---------------\n“It is our choices, Harry, that show what we truly are, far more than our abilities.”\npage: 5 ---------------\n“There are only two ways to live your life. One is as though nothing is a miracle. The other is as though everything is a miracle.”\npage: 5 ---------------\n“The person, be it gentleman or lady, who has not pleasure in a good novel, must be intolerably stupid.”\npage: 5 ---------------\n“Imperfection is beauty, madness is genius and it's better to be absolutely ridiculous than absolutely boring.”\npage: 5 ---------------\n“Try not to become a man of success. Rather become a man of value.”\npage: 5 ---------------\n“It is better to be hated for what you are than to be loved for what you are not.”\npage: 5 ---------------\n“I have not failed. I've just found 10,000 ways that won't work.”\npage: 5 ---------------\n“A woman is like a tea bag; you never know how strong it is until it's in hot water.”\npage: 5 ---------------\n“A day without sunshine is like, you know, night.”\n"
     ]
    }
   ],
   "source": [
    "for x in range(1, 6):\n",
    "    html = browser.html\n",
    "    quote_soup = soup(html, 'html.parser')\n",
    "    quotes = quote_soup.find_all('span', class_='text')\n",
    "    for quote in quotes:\n",
    "        print('page:', x, '---------------')\n",
    "        print(quote.text)\n",
    "    browser.links.find_by_partial_text('Next')"
   ]
  },
  {
   "cell_type": "code",
   "execution_count": 59,
   "metadata": {},
   "outputs": [
    {
     "output_type": "stream",
     "name": "stdout",
     "text": [
      "catalogue/a-light-in-the-attic_1000/index.html\ncatalogue/tipping-the-velvet_999/index.html\ncatalogue/soumission_998/index.html\ncatalogue/sharp-objects_997/index.html\ncatalogue/sapiens-a-brief-history-of-humankind_996/index.html\ncatalogue/the-requiem-red_995/index.html\ncatalogue/the-dirty-little-secrets-of-getting-your-dream-job_994/index.html\ncatalogue/the-coming-woman-a-novel-based-on-the-life-of-the-infamous-feminist-victoria-woodhull_993/index.html\ncatalogue/the-boys-in-the-boat-nine-americans-and-their-epic-quest-for-gold-at-the-1936-berlin-olympics_992/index.html\ncatalogue/the-black-maria_991/index.html\ncatalogue/starving-hearts-triangular-trade-trilogy-1_990/index.html\ncatalogue/shakespeares-sonnets_989/index.html\ncatalogue/set-me-free_988/index.html\ncatalogue/scott-pilgrims-precious-little-life-scott-pilgrim-1_987/index.html\ncatalogue/rip-it-up-and-start-again_986/index.html\ncatalogue/our-band-could-be-your-life-scenes-from-the-american-indie-underground-1981-1991_985/index.html\ncatalogue/olio_984/index.html\ncatalogue/mesaerion-the-best-science-fiction-stories-1800-1849_983/index.html\ncatalogue/libertarianism-for-beginners_982/index.html\ncatalogue/its-only-the-himalayas_981/index.html\n"
     ]
    }
   ],
   "source": [
    "url = 'http://books.toscrape.com/'\n",
    "browser.visit(url)\n",
    "\n",
    "html= browser.html\n",
    "title_soup = soup(html, 'html.parser')\n",
    "\n",
    "#scrape the links\n",
    "dclass = title_soup.find_all('div', class_='image_container')\n",
    "\n",
    "for title in dclass:\n",
    "     link = title.find('a')\n",
    "     href = link['href']\n",
    "\n",
    "     print(href)  \n"
   ]
  },
  {
   "cell_type": "code",
   "execution_count": 47,
   "metadata": {},
   "outputs": [],
   "source": [
    "# url = 'http://books.toscrape.com/'\n",
    "# browser.visit(url)\n",
    "# html = browser.html\n",
    "# title_soup = soup(html, 'html.parser')\n",
    "\n",
    "# for link in title_soup.find_all('a'):\n",
    "#     print(link.get('href'))"
   ]
  },
  {
   "cell_type": "code",
   "execution_count": null,
   "metadata": {},
   "outputs": [],
   "source": []
  }
 ]
}